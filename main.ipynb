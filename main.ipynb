{
 "cells": [
  {
   "cell_type": "code",
   "execution_count": 15,
   "metadata": {},
   "outputs": [],
   "source": [
    "import os\n",
    "import pandas as pd\n",
    "import numpy as np\n",
    "import json\n",
    "import matplotlib.pyplot as plt\n",
    "from sklearn.metrics import accuracy_score, recall_score, precision_score, f1_score, classification_report\n",
    "from sklearn.svm import SVC\n",
    "from sklearn.neighbors import KNeighborsClassifier\n",
    "from sklearn.naive_bayes import GaussianNB\n",
    "from sklearn.preprocessing import MinMaxScaler, LabelEncoder\n",
    "from sklearn.model_selection import train_test_split\n",
    "import seaborn as sns\n",
    "from sklearn.metrics import confusion_matrix\n",
    "from mlxtend.plotting import plot_decision_regions"
   ]
  },
  {
   "cell_type": "code",
   "execution_count": 16,
   "metadata": {},
   "outputs": [
    {
     "ename": "NameError",
     "evalue": "name '__file__' is not defined",
     "output_type": "error",
     "traceback": [
      "\u001b[1;31m---------------------------------------------------------------------------\u001b[0m",
      "\u001b[1;31mNameError\u001b[0m                                 Traceback (most recent call last)",
      "Cell \u001b[1;32mIn[16], line 2\u001b[0m\n\u001b[0;32m      1\u001b[0m \u001b[38;5;66;03m# Load data\u001b[39;00m\n\u001b[1;32m----> 2\u001b[0m data \u001b[38;5;241m=\u001b[39m pd\u001b[38;5;241m.\u001b[39mread_csv(os\u001b[38;5;241m.\u001b[39mpath\u001b[38;5;241m.\u001b[39mjoin(os\u001b[38;5;241m.\u001b[39mpath\u001b[38;5;241m.\u001b[39mdirname(\u001b[38;5;18;43m__file__\u001b[39;49m), \u001b[38;5;124m'\u001b[39m\u001b[38;5;124malzheimers_disease_data.csv\u001b[39m\u001b[38;5;124m'\u001b[39m))\n\u001b[0;32m      4\u001b[0m data \u001b[38;5;241m=\u001b[39m data\u001b[38;5;241m.\u001b[39mdrop(columns\u001b[38;5;241m=\u001b[39m[\u001b[38;5;124m'\u001b[39m\u001b[38;5;124mDoctorInCharge\u001b[39m\u001b[38;5;124m'\u001b[39m])\n",
      "\u001b[1;31mNameError\u001b[0m: name '__file__' is not defined"
     ]
    }
   ],
   "source": [
    "# Load data\n",
    "data = pd.read_csv(os.path.join(\".\", 'alzheimers_disease_data.csv'))\n",
    "\n",
    "data = data.drop(columns=['DoctorInCharge'])"
   ]
  },
  {
   "cell_type": "code",
   "execution_count": null,
   "metadata": {},
   "outputs": [],
   "source": [
    "\n",
    "# Normalize features\n",
    "scaler = MinMaxScaler()\n",
    "data_scaled = scaler.fit_transform(data.drop(columns=['Diagnosis']))\n",
    "\n",
    "# Separate features and targets\n",
    "X = data.drop(columns=['Diagnosis'])\n",
    "y = data['Diagnosis']\n",
    "\n",
    "label_encoder = LabelEncoder()\n",
    "y_encoded = label_encoder.fit_transform(y)\n",
    "\n",
    "# Stratified train-test split\n",
    "X_train, X_test, y_train, y_test = train_test_split(X, y_encoded, test_size=0.3, stratify=y_encoded, random_state=42)\n",
    "\n",
    "# Initialize dictionaries for results and models\n",
    "results = {}\n",
    "model_rules = {}\n",
    "models = {}"
   ]
  },
  {
   "cell_type": "code",
   "execution_count": null,
   "metadata": {},
   "outputs": [],
   "source": [
    "# Add KNN models for k=2 to k=10\n",
    "for k in range(2, 11):\n",
    "    models[f\"KNN_k={k}\"] = KNeighborsClassifier(n_neighbors=k)\n",
    "\n",
    "# Add SVM models with different kernels\n",
    "for kernel in [\"linear\", \"poly\", \"rbf\", \"sigmoid\"]:\n",
    "    models[f\"SVM_{kernel}\"] = SVC(kernel=kernel, probability=True)\n",
    "\n",
    "# Add Naive Bayes\n",
    "models[\"NaiveBayes\"] = GaussianNB()"
   ]
  },
  {
   "cell_type": "code",
   "execution_count": null,
   "metadata": {},
   "outputs": [],
   "source": [
    "# Train and evaluate models\n",
    "for model_name, model in models.items():\n",
    "    model.fit(X_train, y_train)\n",
    "    y_pred = model.predict(X_test)\n",
    "    \n",
    "    # Save performance metrics\n",
    "    results[model_name] = {\n",
    "        \"Accuracy\": accuracy_score(y_test, y_pred),\n",
    "        \"Recall\": recall_score(y_test, y_pred, pos_label=1),\n",
    "        \"Precision\": precision_score(y_test, y_pred, pos_label=1),\n",
    "        \"F1 Score\": f1_score(y_test, y_pred, pos_label=1),\n",
    "        \"Classification Report\": classification_report(y_test, y_pred, output_dict=True)\n",
    "    }\n",
    "\n",
    "    # Save rules\n",
    "    if model_name.startswith(\"KNN\"):\n",
    "        knn_neighbors = model.kneighbors(X_test, return_distance=True)\n",
    "        model_rules[model_name] = [\n",
    "            {\n",
    "                \"Test_Instance_Index\": i,\n",
    "                \"Nearest_Neighbors_Indices\": neighbors.tolist(),\n",
    "                \"Distances\": distances.tolist(),\n",
    "                \"Predicted_Class\": model.predict([X_test.iloc[i]])[0]\n",
    "            }\n",
    "            for i, (distances, neighbors) in enumerate(zip(*knn_neighbors))\n",
    "        ]\n",
    "    elif model_name.startswith(\"SVM\"):\n",
    "        model_rules[model_name] = {\n",
    "            \"Support_Vectors\": model.support_vectors_.tolist(),\n",
    "            \"Coefficients\": model.dual_coef_.tolist(),\n",
    "            \"Intercept\": model.intercept_.tolist()\n",
    "        }\n",
    "    elif model_name == \"NaiveBayes\":\n",
    "        model_rules[model_name] = {\n",
    "            \"Class_Priors\": model.class_prior_.tolist(),\n",
    "            \"Class_Means\": {f\"Class_{i}\": means.tolist() for i, means in enumerate(model.theta_)},\n",
    "            \"Class_Variances\": {f\"Class_{i}\": vars.tolist() for i, vars in enumerate(model.var_)}\n",
    "        }"
   ]
  },
  {
   "cell_type": "code",
   "execution_count": null,
   "metadata": {},
   "outputs": [],
   "source": [
    "# Save rules to JSON\n",
    "def convert_to_serializable(obj):\n",
    "    if isinstance(obj, np.ndarray):\n",
    "        return obj.tolist()\n",
    "    elif isinstance(obj, (np.int64, np.int32)):\n",
    "        return int(obj)\n",
    "    elif isinstance(obj, (np.float64, np.float32)):\n",
    "        return float(obj)\n",
    "    elif isinstance(obj, dict):\n",
    "        return {key: convert_to_serializable(value) for key, value in obj.items()}\n",
    "    elif isinstance(obj, list):\n",
    "        return [convert_to_serializable(item) for item in obj]\n",
    "    else:\n",
    "        return obj"
   ]
  },
  {
   "cell_type": "code",
   "execution_count": null,
   "metadata": {},
   "outputs": [],
   "source": [
    "def plot_confusion_matrix(y_true, y_pred, model_name):\n",
    "        cm = confusion_matrix(y_true, y_pred)\n",
    "        plt.figure(figsize=(8, 6))\n",
    "        sns.heatmap(cm, annot=True, fmt='d', cmap='Blues', xticklabels=labels, yticklabels=labels)\n",
    "        plt.ylabel(\"True Label\")\n",
    "        plt.xlabel(\"Predicted Label\")\n",
    "        plt.title(f\"Confusion Matrix for {model_name}\")\n",
    "        plt.savefig(f\"{model_name}_confusion_matrix.svg\", format=\"svg\")"
   ]
  },
  {
   "cell_type": "code",
   "execution_count": null,
   "metadata": {},
   "outputs": [],
   "source": [
    "# Save results to JSON\n",
    "with open(\"model_results.json\", \"w\") as f:\n",
    "    json.dump(results, f, indent=4)"
   ]
  },
  {
   "cell_type": "code",
   "execution_count": null,
   "metadata": {},
   "outputs": [],
   "source": [
    "serializable_rules = convert_to_serializable(model_rules)\n",
    "with open(\"model_rules.json\", \"w\") as f:\n",
    "    json.dump(serializable_rules, f, indent=4)"
   ]
  },
  {
   "cell_type": "code",
   "execution_count": null,
   "metadata": {},
   "outputs": [],
   "source": [
    "# Save comparison table to Excel\n",
    "results_df = pd.DataFrame({\n",
    "    \"Model\": list(results.keys()),\n",
    "    \"Accuracy\": [res[\"Accuracy\"] for res in results.values()],\n",
    "    \"Recall\": [res[\"Recall\"] for res in results.values()],\n",
    "    \"Precision\": [res[\"Precision\"] for res in results.values()],\n",
    "    \"F1 Score\": [res[\"F1 Score\"] for res in results.values()]\n",
    "})\n",
    "results_df.to_excel(\"comparison_results.xlsx\", index=False)\n",
    "\n",
    "# Visualize confusion matrix and decision boundaries\n",
    "labels = [\"Benign\", \"Malignant\"]"
   ]
  },
  {
   "cell_type": "code",
   "execution_count": null,
   "metadata": {},
   "outputs": [],
   "source": [
    "for model_name, model in models.items():\n",
    "    y_pred = model.predict(X_test)\n",
    "    plot_confusion_matrix(y_test, y_pred, model_name)\n",
    "\n",
    "    # Plot decision boundary for 2D data\n",
    "    if X_test.shape[1] == 2:\n",
    "        try:\n",
    "            plot_decision_regions(X_test.values, y_test.values, clf=model, legend=2)\n",
    "            plt.title(f\"Decision Boundary for {model_name}\")\n",
    "            plt.savefig(f\"{model_name}_decision_boundary.svg\", format=\"svg\")\n",
    "        except Exception as e:\n",
    "            print(f\"Could not plot decision boundary for {model_name}: {e}\")"
   ]
  }
 ],
 "metadata": {
  "language_info": {
   "name": "python"
  }
 },
 "nbformat": 4,
 "nbformat_minor": 2
}
